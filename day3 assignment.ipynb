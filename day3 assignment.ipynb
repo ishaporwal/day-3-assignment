{
 "cells": [
  {
   "cell_type": "code",
   "execution_count": 2,
   "metadata": {},
   "outputs": [
    {
     "name": "stdout",
     "output_type": "stream",
     "text": [
      "enter the number6\n",
      "21\n"
     ]
    }
   ],
   "source": [
    "num = int(input('enter the number'))\n",
    "sum =0\n",
    "while num>0:\n",
    "    sum = sum+num\n",
    "    num = num-1\n",
    "print(sum)"
   ]
  },
  {
   "cell_type": "code",
   "execution_count": 7,
   "metadata": {},
   "outputs": [
    {
     "name": "stdout",
     "output_type": "stream",
     "text": [
      "enter the number11\n",
      "the number is prime\n"
     ]
    }
   ],
   "source": [
    "num = int (input('enter the number'))\n",
    "if num > 1:\n",
    "    for i in range (2,num):\n",
    "        if num % i==0:\n",
    "            print ('the number is not prime')\n",
    "            break;\n",
    "        else:\n",
    "            print ('the number is prime')\n",
    "            break;\n",
    "else:\n",
    "    print ('the number is not prime')\n",
    "        \n",
    "    "
   ]
  },
  {
   "cell_type": "code",
   "execution_count": null,
   "metadata": {},
   "outputs": [],
   "source": []
  },
  {
   "cell_type": "code",
   "execution_count": null,
   "metadata": {},
   "outputs": [],
   "source": []
  }
 ],
 "metadata": {
  "kernelspec": {
   "display_name": "Python 3",
   "language": "python",
   "name": "python3"
  },
  "language_info": {
   "codemirror_mode": {
    "name": "ipython",
    "version": 3
   },
   "file_extension": ".py",
   "mimetype": "text/x-python",
   "name": "python",
   "nbconvert_exporter": "python",
   "pygments_lexer": "ipython3",
   "version": "3.7.6"
  }
 },
 "nbformat": 4,
 "nbformat_minor": 4
}
